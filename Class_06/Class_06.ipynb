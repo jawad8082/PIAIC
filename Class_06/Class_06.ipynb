{
 "cells": [
  {
   "cell_type": "markdown",
   "metadata": {},
   "source": [
    "Class No: 06\n",
    "1. Membership Operators\n",
    "    in, not in, "
   ]
  },
  {
   "cell_type": "code",
   "execution_count": 1,
   "metadata": {},
   "outputs": [
    {
     "name": "stdout",
     "output_type": "stream",
     "text": [
      "Apple is in the list\n"
     ]
    }
   ],
   "source": [
    "from typing import List\n",
    "\n",
    "fruits : List[str] = [\"Apple\", \"Banana\",\"Mongo\"]\n",
    "\n",
    "if \"Apple\" in fruits:\n",
    "    print(\"Apple is in the list\")\n"
   ]
  },
  {
   "cell_type": "code",
   "execution_count": 5,
   "metadata": {},
   "outputs": [
    {
     "name": "stdout",
     "output_type": "stream",
     "text": [
      "Safari is not the list\n"
     ]
    }
   ],
   "source": [
    "if \"Safari\" not in fruits:\n",
    "    print(\"Safari is not the list\")"
   ]
  },
  {
   "cell_type": "markdown",
   "metadata": {},
   "source": [
    "2. Identify operators\n",
    "    is, is not"
   ]
  },
  {
   "cell_type": "code",
   "execution_count": 6,
   "metadata": {},
   "outputs": [
    {
     "name": "stdout",
     "output_type": "stream",
     "text": [
      "True\n",
      "False\n"
     ]
    }
   ],
   "source": [
    "# comparing two variables that points to the same object\n",
    "\n",
    "a =  [1,2,3,4]\n",
    "b = a\n",
    "print(a is b)\n",
    "\n",
    "# comparing two variables that points to the different object\n",
    "\n",
    "c = [1,2,3]\n",
    "print(a is c)"
   ]
  },
  {
   "cell_type": "code",
   "execution_count": 7,
   "metadata": {},
   "outputs": [
    {
     "name": "stdout",
     "output_type": "stream",
     "text": [
      "Memory ID of a 4540975296\n",
      "Memory ID of b 4540975296\n",
      "Memory ID of c 4540708736\n"
     ]
    }
   ],
   "source": [
    "print(\"Memory ID of a\", id(a))\n",
    "print(\"Memory ID of b\", id(b))\n",
    "print(\"Memory ID of c\", id(c))"
   ]
  },
  {
   "cell_type": "markdown",
   "metadata": {},
   "source": [
    "Do"
   ]
  }
 ],
 "metadata": {
  "kernelspec": {
   "display_name": "Python 3",
   "language": "python",
   "name": "python3"
  },
  "language_info": {
   "codemirror_mode": {
    "name": "ipython",
    "version": 3
   },
   "file_extension": ".py",
   "mimetype": "text/x-python",
   "name": "python",
   "nbconvert_exporter": "python",
   "pygments_lexer": "ipython3",
   "version": "3.9.6"
  }
 },
 "nbformat": 4,
 "nbformat_minor": 2
}
